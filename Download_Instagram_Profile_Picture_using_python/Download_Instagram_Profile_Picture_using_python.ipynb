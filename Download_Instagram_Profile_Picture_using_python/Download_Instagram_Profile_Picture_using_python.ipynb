{
  "nbformat": 4,
  "nbformat_minor": 0,
  "metadata": {
    "colab": {
      "name": "Download Instagram Profile Picture using python.ipynb",
      "provenance": []
    },
    "kernelspec": {
      "name": "python3",
      "display_name": "Python 3"
    },
    "language_info": {
      "name": "python"
    }
  },
  "cells": [
    {
      "cell_type": "code",
      "metadata": {
        "colab": {
          "base_uri": "https://localhost:8080/"
        },
        "id": "XBBopH7pyAvi",
        "outputId": "259f713a-b545-435b-8e66-50410c80c98d"
      },
      "source": [
        "!pip install instaloader"
      ],
      "execution_count": 3,
      "outputs": [
        {
          "output_type": "stream",
          "name": "stdout",
          "text": [
            "Collecting instaloader\n",
            "  Downloading instaloader-4.8.2.tar.gz (54 kB)\n",
            "\u001b[?25l\r\u001b[K     |██████                          | 10 kB 23.9 MB/s eta 0:00:01\r\u001b[K     |████████████                    | 20 kB 22.6 MB/s eta 0:00:01\r\u001b[K     |██████████████████▏             | 30 kB 23.0 MB/s eta 0:00:01\r\u001b[K     |████████████████████████▏       | 40 kB 18.5 MB/s eta 0:00:01\r\u001b[K     |██████████████████████████████▏ | 51 kB 7.9 MB/s eta 0:00:01\r\u001b[K     |████████████████████████████████| 54 kB 2.0 MB/s \n",
            "\u001b[?25hRequirement already satisfied: requests>=2.4 in /usr/local/lib/python3.7/dist-packages (from instaloader) (2.23.0)\n",
            "Requirement already satisfied: urllib3!=1.25.0,!=1.25.1,<1.26,>=1.21.1 in /usr/local/lib/python3.7/dist-packages (from requests>=2.4->instaloader) (1.24.3)\n",
            "Requirement already satisfied: idna<3,>=2.5 in /usr/local/lib/python3.7/dist-packages (from requests>=2.4->instaloader) (2.10)\n",
            "Requirement already satisfied: chardet<4,>=3.0.2 in /usr/local/lib/python3.7/dist-packages (from requests>=2.4->instaloader) (3.0.4)\n",
            "Requirement already satisfied: certifi>=2017.4.17 in /usr/local/lib/python3.7/dist-packages (from requests>=2.4->instaloader) (2021.10.8)\n",
            "Building wheels for collected packages: instaloader\n",
            "  Building wheel for instaloader (setup.py) ... \u001b[?25l\u001b[?25hdone\n",
            "  Created wheel for instaloader: filename=instaloader-4.8.2-py3-none-any.whl size=58803 sha256=780c01e6ce203c09d18ba7083b181b09b4a1f0f768913d266b3e20071ef5f443\n",
            "  Stored in directory: /root/.cache/pip/wheels/45/aa/c3/5acb0d8832a0fa990a68b897150078b55c2b5bda5589e73183\n",
            "Successfully built instaloader\n",
            "Installing collected packages: instaloader\n",
            "Successfully installed instaloader-4.8.2\n"
          ]
        }
      ]
    },
    {
      "cell_type": "code",
      "metadata": {
        "colab": {
          "base_uri": "https://localhost:8080/"
        },
        "id": "MqqVme30xBGq",
        "outputId": "03b31e16-4eda-4c05-9c8b-0c438600ebca"
      },
      "source": [
        "import instaloader\n",
        "\n",
        "ig = instaloader.Instaloader()\n",
        "dp = input(\"Enter Insta username:\")\n",
        "\n",
        "ig.download_profile(dp, profile_pic_only=True)"
      ],
      "execution_count": 4,
      "outputs": [
        {
          "output_type": "stream",
          "name": "stdout",
          "text": [
            "Enter Insta username:shekhar.insta1\n",
            "Stored ID 11777942303 for profile shekhar.insta1.\n",
            "shekhar.insta1/2019-03-14_15-17-30_UTC_profile_pic.jpg \n"
          ]
        }
      ]
    }
  ]
}